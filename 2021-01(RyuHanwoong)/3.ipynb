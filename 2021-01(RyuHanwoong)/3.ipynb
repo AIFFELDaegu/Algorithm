def solution(numbers, hand):
    loc = {1:[0,0],2:[0,1],3:[0,2],4:[1,0],5:[1,1],6:[1,2],7:[2,0],8:[2,1],9:[2,2],0:[3,1]}
    L=[3,0]
    R=[3,2]
    a = hand[0].upper()
    answer = ''
    for i in numbers : 
        if i in [0,2,5,8] :
            L_len = abs(L[0]-(loc[i])[0])+abs(L[1]-(loc[i])[1]) 
            R_len = abs(R[0]-(loc[i])[1])+abs(R[1]-(loc[i])[1])
            if L_len > R_len :
                answer+='R'
                R=loc[i]
            elif L_len==R_len :
                if(a=='R'):
                    answer+='R'
                    R=loc[i]
                else :
                    answer+='L'
                    L=loc[i]
            else :
                answer+='L'
                L=loc[i]
        elif i in[3,6,9] :
            answer+='R'
            R=loc[i]
        else :
            answer+='L'
            L=loc[i]
    return answer