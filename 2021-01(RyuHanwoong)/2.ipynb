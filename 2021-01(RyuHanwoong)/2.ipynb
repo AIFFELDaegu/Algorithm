import re
def solution(s):
    number_chr= ['zero','one','two','three','four','five','six','seven','eight','nine']
    answer=''
    for i ,number in enumerate(number_chr) :
        p = re.compile(number)
        answer= p.sub(str(i),s)
    
    print(answer)
    return answer