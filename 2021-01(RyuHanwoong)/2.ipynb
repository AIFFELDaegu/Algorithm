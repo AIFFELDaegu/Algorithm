{
 "cells": [
  {
   "cell_type": "code",
   "execution_count": 1,
   "metadata": {},
   "outputs": [],
   "source": [
    "def solution(numbers, hand):\n",
    "    loc = {1:[0,0],2:[0,1],3:[0,2],4:[1,0],5:[1,1],6:[1,2],7:[2,0],8:[2,1],9:[2,2],0:[3,1]}\n",
    "    L=[3,0]\n",
    "    R=[3,2]\n",
    "    a = hand[0].upper()\n",
    "    answer = ''\n",
    "    for i in numbers : \n",
    "        if i in [0,2,5,8] :\n",
    "            L_len = abs(L[0]-(loc[i])[0])+abs(L[1]-(loc[i])[1]) \n",
    "            R_len = abs(R[0]-(loc[i])[1])+abs(R[1]-(loc[i])[1])\n",
    "            if L_len > R_len :\n",
    "                answer+='R'\n",
    "                R=loc[i]\n",
    "            elif L_len==R_len :\n",
    "                if(a=='R'):\n",
    "                    answer+='R'\n",
    "                    R=loc[i]\n",
    "                else :\n",
    "                    answer+='L'\n",
    "                    L=loc[i]\n",
    "            else :\n",
    "                answer+='L'\n",
    "                L=loc[i]\n",
    "        elif i in[3,6,9] :\n",
    "            answer+='R'\n",
    "            R=loc[i]\n",
    "        else :\n",
    "            answer+='L'\n",
    "            L=loc[i]\n",
    "    return answer"
   ]
  },
  {
   "cell_type": "code",
   "execution_count": null,
   "metadata": {},
   "outputs": [],
   "source": []
  }
 ],
 "metadata": {
  "interpreter": {
   "hash": "9efce205f64ad363cd9f14615485aca38ee4ef0915866e318aa83c8d0c93f6fc"
  },
  "kernelspec": {
   "display_name": "Python 3.10.0 64-bit",
   "language": "python",
   "name": "python3"
  },
  "language_info": {
   "codemirror_mode": {
    "name": "ipython",
    "version": 3
   },
   "file_extension": ".py",
   "mimetype": "text/x-python",
   "name": "python",
   "nbconvert_exporter": "python",
   "pygments_lexer": "ipython3",
   "version": "3.10.0"
  },
  "orig_nbformat": 4
 },
 "nbformat": 4,
 "nbformat_minor": 2
}
