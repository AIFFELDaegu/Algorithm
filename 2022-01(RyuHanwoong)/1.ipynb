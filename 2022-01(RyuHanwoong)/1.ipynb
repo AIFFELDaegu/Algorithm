{
 "cells": [
  {
   "cell_type": "code",
   "execution_count": 3,
   "metadata": {},
   "outputs": [
    {
     "name": "stdout",
     "output_type": "stream",
     "text": [
      "hello\n"
     ]
    }
   ],
   "source": [
    "print(\"hello\")"
   ]
  },
  {
   "cell_type": "code",
   "execution_count": null,
   "metadata": {},
   "outputs": [],
   "source": [
    "import re \n",
    "\n",
    "def solution(new_id):\n",
    "    answer= new_id\n",
    "    if not answer.islower() :\n",
    "        answer= answer.lower()    \n",
    "        print(answer)\n",
    "    for i in answer :\n",
    "        if  not(('a'<=i<='z') or ('0'<=i<='9') or (i=='-') or (i=='_') or (i=='.')):\n",
    "            answer= answer.replace(i,\"\") \n",
    "            print(answer)\n",
    "    \n",
    "    answer =  re.sub(\"[..]+\",'.',answer)\n",
    "    answer =answer.strip('.')\n",
    "    \n",
    "    if(answer == ''):\n",
    "        answer='a'\n",
    "        \n",
    "    if len(answer) >= 16:  \n",
    "        answer = answer[0:15]\n",
    "        answer = answer.strip('.')\n",
    "\n",
    "    if len(answer) <= 2: \n",
    "        i = 3 - len(answer)\n",
    "        answer += answer[-1] * i    \n",
    "    print(answer)\n",
    "    \n",
    "    \n",
    "    return answer"
   ]
  }
 ],
 "metadata": {
  "interpreter": {
   "hash": "9efce205f64ad363cd9f14615485aca38ee4ef0915866e318aa83c8d0c93f6fc"
  },
  "kernelspec": {
   "display_name": "Python 3.10.0 64-bit",
   "language": "python",
   "name": "python3"
  },
  "language_info": {
   "codemirror_mode": {
    "name": "ipython",
    "version": 3
   },
   "file_extension": ".py",
   "mimetype": "text/x-python",
   "name": "python",
   "nbconvert_exporter": "python",
   "pygments_lexer": "ipython3",
   "version": "3.10.0"
  },
  "orig_nbformat": 4
 },
 "nbformat": 4,
 "nbformat_minor": 2
}
