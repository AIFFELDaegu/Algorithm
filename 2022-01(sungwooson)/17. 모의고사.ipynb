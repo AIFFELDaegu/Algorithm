{
 "cells": [
  {
   "cell_type": "code",
   "execution_count": 22,
   "metadata": {},
   "outputs": [],
   "source": [
    "def solution(answers):\n",
    "    answer = []\n",
    "    A1 = [1, 2, 3, 4, 5]; ta1 = []\n",
    "    A2 = [2, 1, 2, 3, 2, 4, 2, 5]; ta2 = []\n",
    "    A3 = [3, 3, 1, 1, 2, 2, 4, 4, 5, 5]; ta3 =[]\n",
    "    ca1 = 0\n",
    "    ca2 = 0\n",
    "    ca3 = 0\n",
    "    \n",
    "    while len(A1) >= 10000 and len(A2) >= 10000 and len(A3) >= 10000 :\n",
    "        ta1 = ta1 + A1\n",
    "        ta2 = ta2 + A2\n",
    "        ta3 = ta3 + A3\n",
    "        \n",
    "    for i in range(len(answers)):\n",
    "        if A1[i] == answers[i] :\n",
    "            ca1 += 1\n",
    "        if A2[i] == answers[i] :\n",
    "            ca2 += 1\n",
    "        if A3[i] == answers[i] :\n",
    "            ca3 += 1         \n",
    "\n",
    "    c = [ca1, ca2, ca3]\n",
    "    \n",
    "    \n",
    "    for i in range(len(c)):\n",
    "        if c[i] == max(c) :\n",
    "            answer.append(i+1)\n",
    "        \n",
    "    return answer"
   ]
  },
  {
   "cell_type": "code",
   "execution_count": 23,
   "metadata": {},
   "outputs": [
    {
     "data": {
      "text/plain": [
       "[1]"
      ]
     },
     "execution_count": 23,
     "metadata": {},
     "output_type": "execute_result"
    }
   ],
   "source": [
    "answers = [1,2,3,4,5]\n",
    "solution(answers)"
   ]
  },
  {
   "cell_type": "code",
   "execution_count": 24,
   "metadata": {},
   "outputs": [
    {
     "data": {
      "text/plain": [
       "[1, 2, 3, 4, 5, 1, 2, 3, 4, 5]"
      ]
     },
     "execution_count": 24,
     "metadata": {},
     "output_type": "execute_result"
    }
   ],
   "source": [
    "def solution(answers):\n",
    "    answer = []\n",
    "    A1 = [1, 2, 3, 4, 5]; ta1 = []\n",
    "    A2 = [2, 1, 2, 3, 2, 4, 2, 5]; ta2 = []\n",
    "    A3 = [3, 3, 1, 1, 2, 2, 4, 4, 5, 5]; ta3 =[]\n",
    "    ca1 = 0\n",
    "    ca2 = 0\n",
    "    ca3 = 0\n",
    "    \n",
    "        \n",
    "    for i in range(len(answers)):\n",
    "        if A1[i % 5] == answers[i] :\n",
    "            ca1 += 1\n",
    "        if A2[i % 8] == answers[i] :\n",
    "            ca2 += 1\n",
    "        if A3[i % 10] == answers[i] :\n",
    "            ca3 += 1         \n",
    "\n",
    "    c = [ca1, ca2, ca3]\n",
    "    \n",
    "    \n",
    "    for i in range(len(c)):\n",
    "        if c[i] == max(c) :\n",
    "            answer.append(i+1)\n",
    "        \n",
    "    return answer"
   ]
  },
  {
   "cell_type": "code",
   "execution_count": 26,
   "metadata": {},
   "outputs": [],
   "source": []
  },
  {
   "cell_type": "code",
   "execution_count": null,
   "metadata": {},
   "outputs": [],
   "source": []
  }
 ],
 "metadata": {
  "interpreter": {
   "hash": "9b9d9f7c280a0e1d18d11a2e303bacbe9c0ea4a7172566f81039e82f548fd704"
  },
  "kernelspec": {
   "display_name": "Python 3.7.6 ('base')",
   "language": "python",
   "name": "python3"
  },
  "language_info": {
   "codemirror_mode": {
    "name": "ipython",
    "version": 3
   },
   "file_extension": ".py",
   "mimetype": "text/x-python",
   "name": "python",
   "nbconvert_exporter": "python",
   "pygments_lexer": "ipython3",
   "version": "3.7.6"
  },
  "orig_nbformat": 4
 },
 "nbformat": 4,
 "nbformat_minor": 2
}
