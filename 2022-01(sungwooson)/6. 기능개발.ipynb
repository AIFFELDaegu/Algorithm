{
 "cells": [
  {
   "cell_type": "code",
   "execution_count": 27,
   "metadata": {},
   "outputs": [],
   "source": [
    "def solution(progresses, speeds):\n",
    "    answer = []\n",
    "    \n",
    "    while(len(progresses) >= 1):\n",
    "        checkpoint = 0\n",
    "        newprog=[]\n",
    "\n",
    "        for i in range(len(progresses)):\n",
    "            if progresses[0] >= 100:\n",
    "                if len(progresses) == 1 :\n",
    "                    checkpoint += 1\n",
    "                    progresses = []\n",
    "                    break\n",
    "                else:            \n",
    "                    progresses = progresses[1:]\n",
    "                    speeds = speeds[1:]\n",
    "                    checkpoint += 1\n",
    "\n",
    "                \n",
    "        for i in range(len(progresses)):  \n",
    "            newprog.append(progresses[i]+speeds[i])\n",
    "        \n",
    "\n",
    "        progresses = newprog\n",
    "        if checkpoint > 0:        \n",
    "            answer.append(checkpoint)\n",
    "    \n",
    "    return answer"
   ]
  },
  {
   "cell_type": "code",
   "execution_count": 28,
   "metadata": {},
   "outputs": [
    {
     "data": {
      "text/plain": [
       "[2, 1]"
      ]
     },
     "execution_count": 28,
     "metadata": {},
     "output_type": "execute_result"
    }
   ],
   "source": [
    "progresses = [93, 30, 55]\n",
    "speeds = [1, 30, 5]\n",
    "\n",
    "solution(progresses, speeds)"
   ]
  },
  {
   "cell_type": "code",
   "execution_count": 20,
   "metadata": {},
   "outputs": [
    {
     "data": {
      "text/plain": [
       "1"
      ]
     },
     "execution_count": 20,
     "metadata": {},
     "output_type": "execute_result"
    }
   ],
   "source": []
  },
  {
   "cell_type": "code",
   "execution_count": null,
   "metadata": {},
   "outputs": [],
   "source": []
  }
 ],
 "metadata": {
  "interpreter": {
   "hash": "9b9d9f7c280a0e1d18d11a2e303bacbe9c0ea4a7172566f81039e82f548fd704"
  },
  "kernelspec": {
   "display_name": "Python 3.7.6 64-bit ('base': conda)",
   "language": "python",
   "name": "python3"
  },
  "language_info": {
   "codemirror_mode": {
    "name": "ipython",
    "version": 3
   },
   "file_extension": ".py",
   "mimetype": "text/x-python",
   "name": "python",
   "nbconvert_exporter": "python",
   "pygments_lexer": "ipython3",
   "version": "3.7.6"
  },
  "orig_nbformat": 4
 },
 "nbformat": 4,
 "nbformat_minor": 2
}
