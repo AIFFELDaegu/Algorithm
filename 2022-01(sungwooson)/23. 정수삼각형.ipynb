{
 "cells": [
  {
   "cell_type": "code",
   "execution_count": 3,
   "metadata": {},
   "outputs": [],
   "source": [
    "def solution(triangle):\n",
    "    for i in range(1,len(triangle)):\n",
    "        for j in range(i+1):\n",
    "            if j==0:\n",
    "                triangle[i][j] += triangle[i-1][j]\n",
    "            elif j==i:\n",
    "                triangle[i][j] += triangle[i-1][j-1]\n",
    "            else:\n",
    "                triangle[i][j] += max(triangle[i-1][j],triangle[i-1][j-1])\n",
    "                \n",
    "    return max(triangle[-1])"
   ]
  },
  {
   "cell_type": "code",
   "execution_count": 4,
   "metadata": {},
   "outputs": [
    {
     "data": {
      "text/plain": [
       "30"
      ]
     },
     "execution_count": 4,
     "metadata": {},
     "output_type": "execute_result"
    }
   ],
   "source": [
    "triangle = [[7], [3, 8], [8, 1, 0], [2, 7, 4, 4], [4, 5, 2, 6, 5]]\t\n",
    "solution(triangle)"
   ]
  },
  {
   "cell_type": "code",
   "execution_count": 1,
   "metadata": {},
   "outputs": [
    {
     "name": "stdout",
     "output_type": "stream",
     "text": [
      "ans: [7]\n",
      " in: [[3, 8], [8, 1, 0], [2, 7, 4, 4], [4, 5, 2, 6, 5]]\n",
      "\n",
      "ans: [10, 15]\n",
      " in: [[8, 1, 0], [2, 7, 4, 4], [4, 5, 2, 6, 5]]\n",
      "\n",
      "ans: [18, 16, 15]\n",
      " in: [[2, 7, 4, 4], [4, 5, 2, 6, 5]]\n",
      "\n",
      "ans: [20, 25, 20, 19]\n",
      " in: [[4, 5, 2, 6, 5]]\n",
      "\n",
      "ans: [24, 30, 27, 26, 24]\n",
      " in: []\n",
      "\n",
      "30\n"
     ]
    }
   ],
   "source": [
    "def solution(triangle):\n",
    "    answer = triangle[0]\n",
    "\n",
    "    answer = recursive(triangle[1:],answer)\n",
    "\n",
    "    return max(answer)\n",
    "\n",
    "def recursive(triangle, answer):\n",
    "    tmp = []\n",
    "    \n",
    "    print(\"ans: {}\\n in: {}\\n\".format(answer,triangle))\n",
    "\n",
    "    if not triangle:#비어있다면 종료\n",
    "        return answer\n",
    "\n",
    "    for i, n in enumerate(triangle[0]):\n",
    "        if i == 0:\n",
    "            tmp.append(answer[0]+n)\n",
    "        elif i == len(triangle[0])-1:\n",
    "            tmp.append(answer[-1]+n)\n",
    "        else:\n",
    "            tmp.append(max(answer[i-1]+n,answer[i]+n))\n",
    "\n",
    "    return recursive(triangle[1:],tmp)\n",
    "\n",
    "\n",
    "print(solution([[7], [3, 8], [8, 1, 0], [2, 7, 4, 4], [4, 5, 2, 6, 5]]))"
   ]
  }
 ],
 "metadata": {
  "interpreter": {
   "hash": "9b9d9f7c280a0e1d18d11a2e303bacbe9c0ea4a7172566f81039e82f548fd704"
  },
  "kernelspec": {
   "display_name": "Python 3.7.6 ('base')",
   "language": "python",
   "name": "python3"
  },
  "language_info": {
   "codemirror_mode": {
    "name": "ipython",
    "version": 3
   },
   "file_extension": ".py",
   "mimetype": "text/x-python",
   "name": "python",
   "nbconvert_exporter": "python",
   "pygments_lexer": "ipython3",
   "version": "3.7.6"
  },
  "orig_nbformat": 4
 },
 "nbformat": 4,
 "nbformat_minor": 2
}
