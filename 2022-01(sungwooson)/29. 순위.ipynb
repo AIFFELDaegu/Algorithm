{
 "cells": [
  {
   "cell_type": "code",
   "execution_count": null,
   "metadata": {},
   "outputs": [],
   "source": [
    "from collections import defaultdict\n",
    "\n",
    "def solution(n, results):\n",
    "    answer = 0\n",
    "    win_graph = defaultdict(set)    # 이긴 애들\n",
    "    lose_graph = defaultdict(set)   # 진 애들\n",
    "    \n",
    "    for winner,loser in results:        # 결과에서 이기고 진 애들 그래프화\n",
    "        win_graph[loser].add(winner)\n",
    "        lose_graph[winner].add(loser)\n",
    "\n",
    "    for i in range(1,n+1):         \n",
    "        for winner in win_graph[i]:                    # i한테 진 애들은 i를 이긴 애들한테도 진 것\n",
    "            lose_graph[winner].update(lose_graph[i])\n",
    "        for loser in lose_graph[i]:                     # i한테 이긴 애들은 i한테 진 애들한테도 이긴 것\n",
    "            win_graph[loser].update(win_graph[i])\n",
    "    \n",
    "    for i in range(1,n+1):\n",
    "        if len(win_graph[i]) + len(lose_graph[i]) == n-1:   # i한테 이기고 진 애들 합쳐서 n-1이면 순위가 결정된 것\n",
    "            answer += 1\n",
    "\n",
    "    return answer"
   ]
  },
  {
   "cell_type": "code",
   "execution_count": null,
   "metadata": {},
   "outputs": [],
   "source": []
  }
 ],
 "metadata": {
  "language_info": {
   "name": "python"
  },
  "orig_nbformat": 4
 },
 "nbformat": 4,
 "nbformat_minor": 2
}
