{
 "cells": [
  {
   "cell_type": "code",
   "execution_count": 1,
   "metadata": {},
   "outputs": [],
   "source": [
    "def solution(N, number):\n",
    "    answer = -1\n",
    "    dp =[]\n",
    "\n",
    "    for i in range(1,9):\n",
    "        all_case = set()\n",
    "        check_number = int(str(N)*i)\n",
    "        all_case.add(check_number)\n",
    "\n",
    "        for j in range(0,i-1):\n",
    "            for op1 in dp[j]:\n",
    "                for op2 in dp[-j-1]:\n",
    "                    all_case.add(op1 + op2)\n",
    "                    all_case.add(op1 - op2)\n",
    "                    all_case.add(op1 * op2)\n",
    "                    if op2 != 0:\n",
    "                        all_case.add(op1 // op2)\n",
    "\n",
    "        if number in all_case:\n",
    "            answer = i\n",
    "            break\n",
    "\n",
    "        dp.append(all_case)\n",
    "\n",
    "    return answer"
   ]
  },
  {
   "cell_type": "code",
   "execution_count": 2,
   "metadata": {},
   "outputs": [
    {
     "data": {
      "text/plain": [
       "4"
      ]
     },
     "execution_count": 2,
     "metadata": {},
     "output_type": "execute_result"
    }
   ],
   "source": [
    "N =5; number = 12\n",
    "solution(N, number)"
   ]
  },
  {
   "cell_type": "code",
   "execution_count": null,
   "metadata": {},
   "outputs": [],
   "source": []
  }
 ],
 "metadata": {
  "interpreter": {
   "hash": "9b9d9f7c280a0e1d18d11a2e303bacbe9c0ea4a7172566f81039e82f548fd704"
  },
  "kernelspec": {
   "display_name": "Python 3.7.6 ('base')",
   "language": "python",
   "name": "python3"
  },
  "language_info": {
   "codemirror_mode": {
    "name": "ipython",
    "version": 3
   },
   "file_extension": ".py",
   "mimetype": "text/x-python",
   "name": "python",
   "nbconvert_exporter": "python",
   "pygments_lexer": "ipython3",
   "version": "3.7.6"
  },
  "orig_nbformat": 4
 },
 "nbformat": 4,
 "nbformat_minor": 2
}
