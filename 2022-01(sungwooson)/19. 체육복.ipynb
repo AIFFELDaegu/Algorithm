{
 "cells": [
  {
   "cell_type": "code",
   "execution_count": null,
   "metadata": {},
   "outputs": [],
   "source": [
    "def solution(n, lost, reserve):\n",
    "    set_reserve = set(reserve) - set(lost)\n",
    "    set_lost = set(lost) - set(reserve)\n",
    "    \n",
    "    for k in set_reserve:\n",
    "        if k-1 in set_lost:\n",
    "            set_lost.remove(k-1)\n",
    "        elif k+1 in set_lost:\n",
    "            set_lost.remove(k+1)\n",
    "        \n",
    "    \n",
    "    answer = n - len(set_lost)\n",
    "    \n",
    "    return answer"
   ]
  },
  {
   "cell_type": "code",
   "execution_count": null,
   "metadata": {},
   "outputs": [],
   "source": []
  }
 ],
 "metadata": {
  "language_info": {
   "name": "python"
  },
  "orig_nbformat": 4
 },
 "nbformat": 4,
 "nbformat_minor": 2
}
