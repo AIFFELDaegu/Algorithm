{
 "cells": [
  {
   "cell_type": "code",
   "execution_count": 2,
   "metadata": {},
   "outputs": [],
   "source": [
    "def solution(s): \n",
    "    result=[] \n",
    "    if len(s)==1: \n",
    "        return 1\n",
    "\n",
    "    for i in range(1, (len(s)//2)+1):\n",
    "        b = '' # 새로운 문자열 ex 2a2ba3c\n",
    "        cnt = 1 # 중복 횟수\n",
    "        tmp = s[:i] #길이 변하는 확인값 i : 문자열 길이\n",
    "\n",
    "        for j in range(i, len(s), i): #길이만큼 체크하는 함수\n",
    "            if tmp == s[j:i+j]:\n",
    "                cnt += 1\n",
    "            else:\n",
    "                if cnt != 1:\n",
    "                    b = b + str(cnt) + tmp\n",
    "                else:\n",
    "                    b = b + tmp\n",
    "                tmp = s[j:i+j]\n",
    "                cnt = 1 \n",
    "        \n",
    "        #마지막 변수 추가\n",
    "        if cnt != 1:\n",
    "            b = b + str(cnt) + tmp\n",
    "             \n",
    "        else:\n",
    "            b = b + tmp\n",
    "\n",
    "        result.append(len(b))\n",
    "    return min(result)\n",
    "\n"
   ]
  },
  {
   "cell_type": "code",
   "execution_count": 3,
   "metadata": {},
   "outputs": [
    {
     "data": {
      "text/plain": [
       "7"
      ]
     },
     "execution_count": 3,
     "metadata": {},
     "output_type": "execute_result"
    }
   ],
   "source": [
    "s = 'aabbaccc'\n",
    "solution(s)"
   ]
  },
  {
   "cell_type": "code",
   "execution_count": 4,
   "metadata": {},
   "outputs": [],
   "source": [
    "# IDEA : 길이를 나누어 검출을 돌리는 법 \n",
    "# 검출한 문자열을 숫자+문자열로 바꾸는 법\n",
    "# 3개 이상 검출 일때 어떻게 하나?\n"
   ]
  },
  {
   "cell_type": "code",
   "execution_count": null,
   "metadata": {},
   "outputs": [],
   "source": []
  }
 ],
 "metadata": {
  "interpreter": {
   "hash": "9b9d9f7c280a0e1d18d11a2e303bacbe9c0ea4a7172566f81039e82f548fd704"
  },
  "kernelspec": {
   "display_name": "Python 3.7.6 64-bit ('base': conda)",
   "language": "python",
   "name": "python3"
  },
  "language_info": {
   "codemirror_mode": {
    "name": "ipython",
    "version": 3
   },
   "file_extension": ".py",
   "mimetype": "text/x-python",
   "name": "python",
   "nbconvert_exporter": "python",
   "pygments_lexer": "ipython3",
   "version": "3.7.6"
  },
  "orig_nbformat": 4
 },
 "nbformat": 4,
 "nbformat_minor": 2
}
