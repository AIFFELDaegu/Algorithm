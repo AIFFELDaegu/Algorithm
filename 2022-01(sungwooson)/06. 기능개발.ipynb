{
 "cells": [
  {
   "cell_type": "code",
   "execution_count": 27,
   "metadata": {},
   "outputs": [],
   "source": [
    "def solution(progresses, speeds):\n",
    "    answer = []\n",
    "    \n",
    "    while(len(progresses) >= 1):\n",
    "        checkpoint = 0\n",
    "        newprog=[]\n",
    "\n",
    "        for i in range(len(progresses)):\n",
    "            if progresses[0] >= 100:\n",
    "                if len(progresses) == 1 :\n",
    "                    checkpoint += 1\n",
    "                    progresses = []\n",
    "                    break\n",
    "                else:            \n",
    "                    progresses = progresses[1:]\n",
    "                    speeds = speeds[1:]\n",
    "                    checkpoint += 1\n",
    "\n",
    "                \n",
    "        for i in range(len(progresses)):  \n",
    "            newprog.append(progresses[i]+speeds[i])\n",
    "        \n",
    "\n",
    "        progresses = newprog\n",
    "        if checkpoint > 0:        \n",
    "            answer.append(checkpoint)\n",
    "    \n",
    "    return answer"
   ]
  },
  {
   "cell_type": "code",
   "execution_count": 28,
   "metadata": {},
   "outputs": [
    {
     "data": {
      "text/plain": [
       "[2, 1]"
      ]
     },
     "execution_count": 28,
     "metadata": {},
     "output_type": "execute_result"
    }
   ],
   "source": [
    "progresses = [93, 30, 55]\n",
    "speeds = [1, 30, 5]\n",
    "\n",
    "solution(progresses, speeds)"
   ]
  },
  {
   "cell_type": "code",
   "execution_count": 33,
   "metadata": {},
   "outputs": [],
   "source": [
    "# 문제가 개편되었습니다. 이로 인해 함수 구성이나 테스트케이스가 변경되어, 과거의 코드는 동작하지 않을 수 있습니다.\n",
    "# 새로운 함수 구성을 적용하려면 [코드 초기화] 버튼을 누르세요. 단, [코드 초기화] 버튼을 누르면 작성 중인 코드는 사라집니다.\n",
    "def solution(progresses, speeds):\n",
    "    Q=[]\n",
    "    for p, s in zip(progresses, speeds):\n",
    "        if len(Q)==0 or Q[-1][0]<-((p-100)//s):\n",
    "            Q.append([-((p-100)//s),1])\n",
    "            print(\"{}\\n\".format(Q))\n",
    "        else:\n",
    "            Q[-1][1]+=1\n",
    "\n",
    "        print(\"{}\\n\".format(Q))\n",
    "    return [q[1] for q in Q]"
   ]
  },
  {
   "cell_type": "code",
   "execution_count": 34,
   "metadata": {},
   "outputs": [
    {
     "name": "stdout",
     "output_type": "stream",
     "text": [
      "[[7, 1]]\n",
      "\n",
      "[[7, 1]]\n",
      "\n",
      "[[7, 2]]\n",
      "\n",
      "[[7, 2], [9, 1]]\n",
      "\n",
      "[[7, 2], [9, 1]]\n",
      "\n"
     ]
    },
    {
     "data": {
      "text/plain": [
       "[2, 1]"
      ]
     },
     "execution_count": 34,
     "metadata": {},
     "output_type": "execute_result"
    }
   ],
   "source": [
    "progresses = [93, 30, 55]\n",
    "speeds = [1, 30, 5]\n",
    "\n",
    "solution(progresses, speeds)"
   ]
  },
  {
   "cell_type": "code",
   "execution_count": 35,
   "metadata": {},
   "outputs": [
    {
     "name": "stdout",
     "output_type": "stream",
     "text": [
      "[[5, 1]]\n",
      "\n",
      "[[5, 1]]\n",
      "\n",
      "[[5, 1], [10, 1]]\n",
      "\n",
      "[[5, 1], [10, 1]]\n",
      "\n",
      "[[5, 1], [10, 2]]\n",
      "\n",
      "[[5, 1], [10, 3]]\n",
      "\n",
      "[[5, 1], [10, 3], [20, 1]]\n",
      "\n",
      "[[5, 1], [10, 3], [20, 1]]\n",
      "\n",
      "[[5, 1], [10, 3], [20, 2]]\n",
      "\n"
     ]
    },
    {
     "data": {
      "text/plain": [
       "[1, 3, 2]"
      ]
     },
     "execution_count": 35,
     "metadata": {},
     "output_type": "execute_result"
    }
   ],
   "source": [
    "progresses = [95, 90, 99, 99, 80, 99]\n",
    "speeds = [1, 1, 1, 1, 1, 1]\n",
    "\n",
    "solution(progresses, speeds)"
   ]
  },
  {
   "cell_type": "code",
   "execution_count": null,
   "metadata": {},
   "outputs": [],
   "source": []
  }
 ],
 "metadata": {
  "interpreter": {
   "hash": "9b9d9f7c280a0e1d18d11a2e303bacbe9c0ea4a7172566f81039e82f548fd704"
  },
  "kernelspec": {
   "display_name": "Python 3.7.6 64-bit ('base': conda)",
   "language": "python",
   "name": "python3"
  },
  "language_info": {
   "codemirror_mode": {
    "name": "ipython",
    "version": 3
   },
   "file_extension": ".py",
   "mimetype": "text/x-python",
   "name": "python",
   "nbconvert_exporter": "python",
   "pygments_lexer": "ipython3",
   "version": "3.7.6"
  },
  "orig_nbformat": 4
 },
 "nbformat": 4,
 "nbformat_minor": 2
}
