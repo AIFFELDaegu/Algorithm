{
 "cells": [
  {
   "cell_type": "code",
   "execution_count": null,
   "metadata": {},
   "outputs": [],
   "source": [
    "def solution(array, commands):\n",
    "    answer = []\n",
    "\n",
    "    for [i, j, k] in commands:\n",
    "        New = []\n",
    "        if i == j:\n",
    "            New.append(array[i-1])\n",
    "        else:\n",
    "            New = array[i-1:j]\n",
    "\n",
    "        New.sort()\n",
    "        answer.append(New[k-1])\n",
    "\n",
    "    return answer"
   ]
  },
  {
   "cell_type": "code",
   "execution_count": null,
   "metadata": {},
   "outputs": [],
   "source": []
  }
 ],
 "metadata": {
  "language_info": {
   "name": "python"
  },
  "orig_nbformat": 4
 },
 "nbformat": 4,
 "nbformat_minor": 2
}
