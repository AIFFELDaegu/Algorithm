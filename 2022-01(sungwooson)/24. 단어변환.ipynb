{
 "cells": [
  {
   "cell_type": "code",
   "execution_count": null,
   "metadata": {},
   "outputs": [],
   "source": [
    "def solution(begin, target, words):\n",
    "    answer = 0\n",
    "    if target not in words:\n",
    "        return 0\n",
    "\n",
    "    visited = [False]*(len(words))\n",
    "\n",
    "    answer = bfs(begin, target, words, visited)\n",
    "\n",
    "    return answer\n",
    "\n",
    "def bfs(begin, target, words, visited):\n",
    "    count = 0\n",
    "    stack =[(begin, 0)]\n",
    "    while stack:\n",
    "        cur, depth = stack.pop()\n",
    "        if cur == target:\n",
    "            return depth\n",
    "        \n",
    "        for i in range(len(words)):\n",
    "            if visited[i] == True:\n",
    "                continue\n",
    "            cnt = 0\n",
    "            for a,b in zip(cur, words[i]):\n",
    "                if a!= b:\n",
    "                    cnt += 1\n",
    "            if cnt == 1:\n",
    "                visited[i] = True\n",
    "                stack.append((words[i], depth+1))"
   ]
  },
  {
   "cell_type": "code",
   "execution_count": null,
   "metadata": {},
   "outputs": [],
   "source": []
  }
 ],
 "metadata": {
  "language_info": {
   "name": "python"
  },
  "orig_nbformat": 4
 },
 "nbformat": 4,
 "nbformat_minor": 2
}
