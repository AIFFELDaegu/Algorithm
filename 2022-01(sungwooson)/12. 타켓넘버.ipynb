{
 "cells": [
  {
   "cell_type": "code",
   "execution_count": 15,
   "metadata": {},
   "outputs": [],
   "source": [
    "def partsum(numlist, num2):\n",
    "    new = []\n",
    "    for a in numlist:\n",
    "        new.append(a + num2)\n",
    "        new.append(a - num2 )\n",
    "        \n",
    "        \n",
    "    return new\n",
    "\n",
    "def solution(numbers, target):\n",
    "    answer = 0\n",
    "    middle = [0]\n",
    "    for newmat in numbers:\n",
    "        if middle == [0] :\n",
    "            middle = [+newmat,-newmat]\n",
    "        else :\n",
    "            check = partsum(middle, newmat) \n",
    "            middle = check\n",
    "\n",
    "        print(middle)\n",
    "        print(len(middle))\n",
    "        \n",
    "    answer = middle.count(target)\n",
    "\n",
    "    return answer"
   ]
  },
  {
   "cell_type": "code",
   "execution_count": 16,
   "metadata": {},
   "outputs": [
    {
     "name": "stdout",
     "output_type": "stream",
     "text": [
      "[4, -4]\n",
      "2\n",
      "[5, 3, -3, -5]\n",
      "4\n",
      "[7, 3, 5, 1, -1, -5, -3, -7]\n",
      "8\n",
      "[8, 6, 4, 2, 6, 4, 2, 0, 0, -2, -4, -6, -2, -4, -6, -8]\n",
      "16\n"
     ]
    },
    {
     "data": {
      "text/plain": [
       "2"
      ]
     },
     "execution_count": 16,
     "metadata": {},
     "output_type": "execute_result"
    }
   ],
   "source": [
    "numbers = [4, 1, 2, 1]\n",
    "target = 4\n",
    "solution(numbers, target)"
   ]
  },
  {
   "cell_type": "code",
   "execution_count": 1,
   "metadata": {},
   "outputs": [],
   "source": [
    "answer = 0\n",
    "def DFS(idx, numbers, target, value):\n",
    "    global answer\n",
    "    N = len(numbers)\n",
    "    if(idx== N and target == value):\n",
    "        answer += 1\n",
    "        return\n",
    "    if(idx == N):\n",
    "        return\n",
    "\n",
    "    DFS(idx+1,numbers,target,value+numbers[idx])\n",
    "    DFS(idx+1,numbers,target,value-numbers[idx])\n",
    "def solution(numbers, target):\n",
    "    global answer\n",
    "    DFS(0,numbers,target,0)\n",
    "    return answer\n"
   ]
  },
  {
   "cell_type": "code",
   "execution_count": 2,
   "metadata": {},
   "outputs": [
    {
     "data": {
      "text/plain": [
       "2"
      ]
     },
     "execution_count": 2,
     "metadata": {},
     "output_type": "execute_result"
    }
   ],
   "source": [
    "numbers = [4, 1, 2, 1]\n",
    "target = 4\n",
    "solution(numbers, target)"
   ]
  },
  {
   "cell_type": "code",
   "execution_count": null,
   "metadata": {},
   "outputs": [],
   "source": []
  }
 ],
 "metadata": {
  "interpreter": {
   "hash": "9b9d9f7c280a0e1d18d11a2e303bacbe9c0ea4a7172566f81039e82f548fd704"
  },
  "kernelspec": {
   "display_name": "Python 3.7.6 64-bit ('base': conda)",
   "language": "python",
   "name": "python3"
  },
  "language_info": {
   "codemirror_mode": {
    "name": "ipython",
    "version": 3
   },
   "file_extension": ".py",
   "mimetype": "text/x-python",
   "name": "python",
   "nbconvert_exporter": "python",
   "pygments_lexer": "ipython3",
   "version": "3.7.6"
  },
  "orig_nbformat": 4
 },
 "nbformat": 4,
 "nbformat_minor": 2
}
