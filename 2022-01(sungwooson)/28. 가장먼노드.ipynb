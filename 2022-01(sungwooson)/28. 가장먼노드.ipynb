{
 "cells": [
  {
   "cell_type": "code",
   "execution_count": 1,
   "metadata": {},
   "outputs": [
    {
     "data": {
      "text/plain": [
       "[[], [], [], []]"
      ]
     },
     "execution_count": 1,
     "metadata": {},
     "output_type": "execute_result"
    }
   ],
   "source": [
    "from collections import deque\n",
    "\n",
    "def solution(n, edge):\n",
    "    answer = 0\n",
    "    graph = [[] for _ in range(n+1)]\n",
    "    distance = [-1] * (n+1)\n",
    "\n",
    "    for e in edge:\n",
    "        graph[e[0]].append(e[1])\n",
    "        graph[e[1]].append(e[0])\n",
    "\n",
    "    queue = deque([1]) \n",
    "    distance[1] = 0 #출발 노드 최단거리 0\n",
    "\n",
    "    #BFS 수행\n",
    "    while queue:\n",
    "        now = queue.popleft()\n",
    "\n",
    "        #현재 노드에서 이동가능한 모든 노드 확인\n",
    "        for i in graph[now]:\n",
    "            if distance[i] == -1:\n",
    "                queue.append(i)\n",
    "                distance[i] = distance[now] + 1\n",
    "\n",
    "    # 가장 멀리 떨어진 노드 개수 구하기\n",
    "    for d in distance:\n",
    "        if d == max(distance):\n",
    "            answer += 1\n",
    "\n",
    "    return answer\n",
    "\n"
   ]
  },
  {
   "cell_type": "code",
   "execution_count": null,
   "metadata": {},
   "outputs": [],
   "source": [
    "1. 연결된 노드 정보 그래프(graph) 와 각 노드의 최단거리를 저장하는 리스트(distance) 생성 후 graph에 노드 연결 정보를 추가한다. 간선이 양방향이므로 양쪽으로 추가해줘야 한다.\n",
    "\n",
    "2. BFS를 위한 큐(queue) 를 생성한다. 출발 노드는 1이므로 미리 출발 노드를 넣어둔다. 출발 노드의 최단거리는 0 으로 만든다.\n",
    "\n",
    "3. BFS를 수행한다.\n",
    "\n",
    "    3-1. 현재 노드(now) 를 가져온다.\n",
    "\n",
    "    3-2. 현재 노드에서 이동할 수 있는 모든 노드를 확인한다. 아직 방문하지 않은 노드라면 queue에 추가하고 최단거리를 갱신한다.\n",
    "\n",
    "4. 가장 멀리 떨어진 노드 개수를 구한다.\n",
    "\n",
    "\n",
    "\n",
    "출처: https://soohyun6879.tistory.com/183 [코딩기록]"
   ]
  }
 ],
 "metadata": {
  "interpreter": {
   "hash": "9b9d9f7c280a0e1d18d11a2e303bacbe9c0ea4a7172566f81039e82f548fd704"
  },
  "kernelspec": {
   "display_name": "Python 3.7.6 ('base')",
   "language": "python",
   "name": "python3"
  },
  "language_info": {
   "codemirror_mode": {
    "name": "ipython",
    "version": 3
   },
   "file_extension": ".py",
   "mimetype": "text/x-python",
   "name": "python",
   "nbconvert_exporter": "python",
   "pygments_lexer": "ipython3",
   "version": "3.7.6"
  },
  "orig_nbformat": 4
 },
 "nbformat": 4,
 "nbformat_minor": 2
}
