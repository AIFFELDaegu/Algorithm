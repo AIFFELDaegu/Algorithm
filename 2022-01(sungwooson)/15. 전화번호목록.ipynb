{
 "cells": [
  {
   "cell_type": "code",
   "execution_count": null,
   "metadata": {},
   "outputs": [],
   "source": [
    "def solution(phone_book):\n",
    "    hash_map = {}\n",
    "    for phone_number in phone_book:\n",
    "        hash_map[phone_number] = 1\n",
    "\n",
    "\n",
    "    for phone_number in phone_book:\n",
    "        jubdoo = \"\"\n",
    "        for number in phone_number:\n",
    "            jubdoo += number\n",
    "\n",
    "            if jubdoo in hash_map and jubdoo != phone_number:\n",
    "                return False\n",
    "    \n",
    "    return True\n"
   ]
  },
  {
   "cell_type": "code",
   "execution_count": null,
   "metadata": {},
   "outputs": [],
   "source": [
    "def solution(phone_book):\n",
    "    for i in range(len(phone_book)):\n",
    "\n",
    "        for j in range(i+1, len(phone_book)):\n",
    "\n",
    "            if phone_book[i].startswith(phone_book[j]):\n",
    "                return False\n",
    "            if phone_book[j].startswith(phone_book[i]):\n",
    "                return False\n",
    "\n",
    "    return True"
   ]
  }
 ],
 "metadata": {
  "language_info": {
   "name": "python"
  },
  "orig_nbformat": 4
 },
 "nbformat": 4,
 "nbformat_minor": 2
}
