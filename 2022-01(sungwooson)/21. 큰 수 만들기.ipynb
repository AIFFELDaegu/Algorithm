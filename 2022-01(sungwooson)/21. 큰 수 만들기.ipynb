{
 "cells": [
  {
   "cell_type": "code",
   "execution_count": 63,
   "metadata": {},
   "outputs": [],
   "source": [
    "from itertools import combinations\n",
    "\n",
    "def solution(number, k):\n",
    "    answer = ''\n",
    "    numlist = []\n",
    "    for i in number:    \n",
    "        numlist.append(i)\n",
    "           \n",
    "    numset =list(set(number)) \n",
    "  \n",
    "    \n",
    "    numcomb = list(combinations(numset,k))\n",
    "\n",
    "    \n",
    "    max = 1\n",
    "    for inner in numcomb:\n",
    "\n",
    "        checknum = numlist[:] # copy.copy copy.deepcopy\n",
    "\n",
    "        \n",
    "        for i in inner:\n",
    "            while i in checknum:\n",
    "                checknum.remove(i)\n",
    "        \n",
    "       \n",
    "        \n",
    "        compare = int(''.join(checknum))\n",
    "        \n",
    "        if compare > max :\n",
    "            max = compare\n",
    "        \n",
    "       \n",
    "    answer = str(max)    \n",
    "    \n",
    "    return answer"
   ]
  },
  {
   "cell_type": "code",
   "execution_count": 64,
   "metadata": {},
   "outputs": [
    {
     "data": {
      "text/plain": [
       "'94'"
      ]
     },
     "execution_count": 64,
     "metadata": {},
     "output_type": "execute_result"
    }
   ],
   "source": [
    "number = \"1924\" ; k = 2\n",
    "solution(number, k)"
   ]
  },
  {
   "cell_type": "code",
   "execution_count": 65,
   "metadata": {},
   "outputs": [],
   "source": [
    "from itertools import combinations\n",
    "\n",
    "def solution(number, k):\n",
    "    answer = ''\n",
    "    numlist = []\n",
    "    for i in number:    \n",
    "        numlist.append(i)        \n",
    "    \n",
    "    n = len(numlist)\n",
    "    numcomb = list(combinations(numlist,n - k))\n",
    "\n",
    "    \n",
    "    max = 1\n",
    "    for inner in numcomb:\n",
    "        checknum = []\n",
    "        \n",
    "        for i in inner:\n",
    "            checknum.append(i)\n",
    "                     \n",
    "        compare = int(''.join(checknum))\n",
    "        \n",
    "        if compare > max :\n",
    "            max = compare\n",
    "            \n",
    "    answer = str(max)    \n",
    "    \n",
    "    return answer"
   ]
  },
  {
   "cell_type": "code",
   "execution_count": 67,
   "metadata": {},
   "outputs": [
    {
     "data": {
      "text/plain": [
       "'775841'"
      ]
     },
     "execution_count": 67,
     "metadata": {},
     "output_type": "execute_result"
    }
   ],
   "source": [
    "number = \"4177252841\" ; k = 4\n",
    "solution(number, k)"
   ]
  },
  {
   "cell_type": "code",
   "execution_count": null,
   "metadata": {},
   "outputs": [],
   "source": [
    "def solution(number, k):\n",
    "    answer = [] # Stack\n",
    "    \n",
    "    for num in number:\n",
    "        while k > 0 and answer and answer[-1] < num:\n",
    "            answer.pop()\n",
    "            k -= 1\n",
    "        answer.append(num)\n",
    "        \n",
    "    return ''.join(answer[:len(answer) - k])"
   ]
  }
 ],
 "metadata": {
  "interpreter": {
   "hash": "9b9d9f7c280a0e1d18d11a2e303bacbe9c0ea4a7172566f81039e82f548fd704"
  },
  "kernelspec": {
   "display_name": "Python 3.7.6 ('base')",
   "language": "python",
   "name": "python3"
  },
  "language_info": {
   "codemirror_mode": {
    "name": "ipython",
    "version": 3
   },
   "file_extension": ".py",
   "mimetype": "text/x-python",
   "name": "python",
   "nbconvert_exporter": "python",
   "pygments_lexer": "ipython3",
   "version": "3.7.6"
  },
  "orig_nbformat": 4
 },
 "nbformat": 4,
 "nbformat_minor": 2
}
