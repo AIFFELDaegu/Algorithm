{
 "cells": [
  {
   "cell_type": "code",
   "execution_count": 6,
   "metadata": {},
   "outputs": [],
   "source": [
    "def solution(numbers, hand):\n",
    "    loc = {1:[0,0],2:[0,1],3:[0,2],4:[1,0],5:[1,1],6:[1,2],7:[2,0],8:[2,1],9:[2,2],0:[3,1]}\n",
    "    L=[3,0]\n",
    "    R=[3,2]\n",
    "    a = hand[0].upper()\n",
    "    answer = ''\n",
    "    for i in numbers : \n",
    "        if i in [0,2,5,8] :\n",
    "            L_len = abs(L[0]-(loc[i])[0])+abs(L[1]-(loc[i])[1]) \n",
    "            R_len = abs(R[0]-(loc[i])[0])+abs(R[1]-(loc[i])[1])\n",
    "            print(L,R,L[0]-(loc[i])[0],R[0]-(loc[i])[1])\n",
    "            if L_len > R_len :\n",
    "                answer+='R'\n",
    "                R=loc[i]\n",
    "            elif L_len==R_len :\n",
    "                if(a=='R'):\n",
    "                    answer+='R'\n",
    "                    R=loc[i]\n",
    "                else :\n",
    "                    answer+='L'\n",
    "                    L=loc[i]\n",
    "            else :\n",
    "                answer+='L'\n",
    "                L=loc[i]\n",
    "\n",
    "        elif i in[3,6,9] :\n",
    "            answer+='R'\n",
    "            R=loc[i]\n",
    "\n",
    "        else :\n",
    "            answer+='L'\n",
    "            L=loc[i]\n",
    "\n",
    "    return answer"
   ]
  },
  {
   "cell_type": "code",
   "execution_count": 7,
   "metadata": {},
   "outputs": [
    {
     "name": "stdout",
     "output_type": "stream",
     "text": [
      "[2, 0] [3, 2] -1 2\n",
      "[3, 1] [3, 2] 1 2\n",
      "[2, 1] [3, 2] 2 2\n",
      "[0, 1] [3, 2] -2 2\n",
      "[0, 0] [0, 2] -1 -1\n",
      "[2, 0] [1, 2] 2 0\n"
     ]
    },
    {
     "data": {
      "text/plain": [
       "'LLLLLRLLLRR'"
      ]
     },
     "execution_count": 7,
     "metadata": {},
     "output_type": "execute_result"
    }
   ],
   "source": [
    "A =list( map(int, input().split(',')) )\n",
    "B = str(input())\n",
    "\n",
    "solution(A, B)"
   ]
  },
  {
   "cell_type": "code",
   "execution_count": null,
   "metadata": {},
   "outputs": [],
   "source": []
  }
 ],
 "metadata": {
  "interpreter": {
   "hash": "9b9d9f7c280a0e1d18d11a2e303bacbe9c0ea4a7172566f81039e82f548fd704"
  },
  "kernelspec": {
   "display_name": "Python 3.7.6 64-bit ('base': conda)",
   "language": "python",
   "name": "python3"
  },
  "language_info": {
   "codemirror_mode": {
    "name": "ipython",
    "version": 3
   },
   "file_extension": ".py",
   "mimetype": "text/x-python",
   "name": "python",
   "nbconvert_exporter": "python",
   "pygments_lexer": "ipython3",
   "version": "3.7.6"
  },
  "orig_nbformat": 4
 },
 "nbformat": 4,
 "nbformat_minor": 2
}
