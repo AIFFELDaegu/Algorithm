{
 "cells": [
  {
   "cell_type": "code",
   "execution_count": 70,
   "metadata": {},
   "outputs": [],
   "source": [
    "# 입력을 다시 숫자로 변환\n",
    "def solution(board, moves):\n",
    "    check =[]\n",
    "    answer = 0\n",
    "    newboard = []\n",
    "\n",
    "    rows=[]    \n",
    "    for i in range(len(board)): #행값\n",
    "        for j in range(len(board[0])): #열값\n",
    "            rows.append(board[j][i])\n",
    "        newboard.append(rows)\n",
    "        rows=[]\n",
    "\n",
    "    for i in moves :\n",
    "        for j in range(len(newboard[i-1])):\n",
    "                       \n",
    "\n",
    "            if newboard[i-1][j] == 0:\n",
    "                continue\n",
    "            else :\n",
    "                check += [newboard[i -1][j]]\n",
    "                newboard[i-1][j] = 0\n",
    "                \n",
    "                if check[-1:] == check[-2:-1]:\n",
    "                    answer += 1\n",
    "                    check = check[:-2]\n",
    "                break\n",
    "\n",
    "    return answer*2\n",
    "# "
   ]
  },
  {
   "cell_type": "code",
   "execution_count": 71,
   "metadata": {},
   "outputs": [
    {
     "name": "stdout",
     "output_type": "stream",
     "text": [
      "[4]\n",
      "[4, 3]\n",
      "[4, 3, 1]\n",
      "[4, 3, 1, 1]\n",
      "[4, 3, 3]\n",
      "[4, 2]\n",
      "[4, 2, 4]\n"
     ]
    },
    {
     "data": {
      "text/plain": [
       "4"
      ]
     },
     "execution_count": 71,
     "metadata": {},
     "output_type": "execute_result"
    }
   ],
   "source": [
    "board = [[0,0,0,0,0],[0,0,1,0,3],[0,2,5,0,1],[4,2,4,4,2],[3,5,1,3,1]]\t\n",
    "moves = [1,5,3,5,1,2,1,4]\n",
    "\n",
    "solution(board, moves)"
   ]
  },
  {
   "cell_type": "code",
   "execution_count": 74,
   "metadata": {},
   "outputs": [],
   "source": [
    "#다른 솔루션\n",
    "\n",
    "def solution(board, moves):\n",
    "    bucket = []\n",
    "    answer = []\n",
    "    for move in moves:\n",
    "        for i in range(len(board)):\n",
    "            if board[i][move-1] > 0:\n",
    "                bucket. append(board[i][move-1])\n",
    "                board[i][move-1] = 0\n",
    "                \n",
    "                if bucket[-1:] == bucket[-2:-1]:\n",
    "                    answer += bucket[-1:]\n",
    "                    bucket = bucket[:-2]\n",
    "                break\n",
    "    return len(answer)*2"
   ]
  },
  {
   "cell_type": "code",
   "execution_count": 75,
   "metadata": {},
   "outputs": [
    {
     "name": "stdout",
     "output_type": "stream",
     "text": [
      "[4]\n",
      "[4, 3]\n",
      "[4, 3, 1]\n",
      "[4, 3, 1, 1]\n",
      "[4, 3, 3]\n",
      "[4, 2]\n",
      "[4, 2, 4]\n"
     ]
    },
    {
     "data": {
      "text/plain": [
       "4"
      ]
     },
     "execution_count": 75,
     "metadata": {},
     "output_type": "execute_result"
    }
   ],
   "source": [
    "board = [[0,0,0,0,0],[0,0,1,0,3],[0,2,5,0,1],[4,2,4,4,2],[3,5,1,3,1]]\t\n",
    "moves = [1,5,3,5,1,2,1,4]\n",
    "\n",
    "solution(board, moves)"
   ]
  },
  {
   "cell_type": "code",
   "execution_count": null,
   "metadata": {},
   "outputs": [],
   "source": []
  }
 ],
 "metadata": {
  "interpreter": {
   "hash": "404092cc3eecbd3bb56df4e9b299f0ca42258886158a3fcc85e21364388202ae"
  },
  "kernelspec": {
   "display_name": "Python 3.7.7 64-bit ('pytorch_37': conda)",
   "language": "python",
   "name": "python3"
  },
  "language_info": {
   "codemirror_mode": {
    "name": "ipython",
    "version": 3
   },
   "file_extension": ".py",
   "mimetype": "text/x-python",
   "name": "python",
   "nbconvert_exporter": "python",
   "pygments_lexer": "ipython3",
   "version": "3.7.6"
  },
  "orig_nbformat": 4
 },
 "nbformat": 4,
 "nbformat_minor": 2
}
