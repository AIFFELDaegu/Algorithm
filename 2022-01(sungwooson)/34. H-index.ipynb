{
 "cells": [
  {
   "cell_type": "code",
   "execution_count": null,
   "metadata": {},
   "outputs": [],
   "source": [
    "def solution(citations):\n",
    "    answer = 0\n",
    "    hmax=max(citations)\n",
    "    \n",
    "    while (1):\n",
    "        count = 0\n",
    "        for i in citations:\n",
    "            \n",
    "            if i >= hmax:\n",
    "                count += 1\n",
    "\n",
    "        if count == hmax:\n",
    "            break\n",
    "        else:\n",
    "            hmax -= 1\n",
    "            \n",
    "            \n",
    "    return hmax"
   ]
  },
  {
   "cell_type": "code",
   "execution_count": null,
   "metadata": {},
   "outputs": [],
   "source": [
    "def solution(citations):\n",
    "    citations.sort(reverse=True)\n",
    "    for idx , citation in enumerate(citations):\n",
    "        if idx >= citation:\n",
    "            return idx\n",
    "    return len(citations)\n"
   ]
  }
 ],
 "metadata": {
  "language_info": {
   "name": "python"
  },
  "orig_nbformat": 4
 },
 "nbformat": 4,
 "nbformat_minor": 2
}
