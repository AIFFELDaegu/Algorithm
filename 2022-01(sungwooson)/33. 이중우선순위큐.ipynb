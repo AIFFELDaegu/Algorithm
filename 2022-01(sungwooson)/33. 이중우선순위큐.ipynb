{
 "cells": [
  {
   "cell_type": "code",
   "execution_count": 3,
   "metadata": {},
   "outputs": [],
   "source": [
    "import heapq\n",
    "\n",
    "def solution(operations):\n",
    "    heap = []\n",
    "    max_heap = []\n",
    "    \n",
    "    for o in operations:\n",
    "        current = o.split()\n",
    "        if current[0] == 'I':\n",
    "            num = int(current[1])\n",
    "            heapq.heappush(heap, num)\n",
    "            heapq.heappush(max_heap, (num*-1, num))\n",
    "        else:\n",
    "            if len(heap) ==0 :\n",
    "                pass\n",
    "            elif current[1] == '1':\n",
    "                max_value = heapq.heappop(max_heap)[1]\n",
    "                heap.remove(max_value)\n",
    "            elif current[1] == '-1':\n",
    "                min_value = heapq.heappop(heap)\n",
    "                max_heap.remove((min_value*-1,min_value))\n",
    "                \n",
    "    if heap:\n",
    "        return [heapq.heappop(max_heap)[1],heapq.heappop(heap)]\n",
    "    else:\n",
    "        return [0,0]"
   ]
  },
  {
   "cell_type": "code",
   "execution_count": 4,
   "metadata": {},
   "outputs": [
    {
     "data": {
      "text/plain": [
       "[7, 5]"
      ]
     },
     "execution_count": 4,
     "metadata": {},
     "output_type": "execute_result"
    }
   ],
   "source": [
    "operations = [\"I 7\",\"I 5\",\"I -5\",\"D -1\"]\n",
    "solution(operations)"
   ]
  },
  {
   "cell_type": "code",
   "execution_count": 5,
   "metadata": {},
   "outputs": [],
   "source": [
    "import heapq\n",
    "\n",
    "def solution(operations):\n",
    "    answer = []\n",
    "    heap = []   # 힙 생성\n",
    "\n",
    "    for data in operations:\n",
    "        # 연산이 \"I\"일 경우 공백 뒤의 숫자를 heap에 넣음\n",
    "        if data[0] == \"I\":\n",
    "            heapq.heappush(heap, int(data[2:]))\n",
    "        # 연산이 \"D\"일 경우\n",
    "        else:\n",
    "            if len(heap) == 0:\n",
    "                pass\n",
    "            # 공백 뒤가 \"-\"일 경우 최소힙을 제거\n",
    "            elif data[2] == \"-\":\n",
    "                heapq.heappop(heap)\n",
    "            # 공백 뒤가 아무것도 아닌 경우\n",
    "            else:\n",
    "                # 힙에서 가장 큰 수를 제외하고 다시 힙에 넣음\n",
    "                heap = heapq.nlargest(len(heap), heap)[1:]\n",
    "                heapq.heapify(heap)\n",
    "\n",
    "    if heap:\n",
    "        answer.append(max(heap))\n",
    "        answer.append(min(heap))\n",
    "    else:\n",
    "        answer.append(0)\n",
    "        answer.append(0)\n",
    "    \n",
    "    return answer"
   ]
  }
 ],
 "metadata": {
  "interpreter": {
   "hash": "9b9d9f7c280a0e1d18d11a2e303bacbe9c0ea4a7172566f81039e82f548fd704"
  },
  "kernelspec": {
   "display_name": "Python 3.7.6 ('base')",
   "language": "python",
   "name": "python3"
  },
  "language_info": {
   "codemirror_mode": {
    "name": "ipython",
    "version": 3
   },
   "file_extension": ".py",
   "mimetype": "text/x-python",
   "name": "python",
   "nbconvert_exporter": "python",
   "pygments_lexer": "ipython3",
   "version": "3.7.6"
  },
  "orig_nbformat": 4
 },
 "nbformat": 4,
 "nbformat_minor": 2
}
