{
 "cells": [
  {
   "cell_type": "code",
   "execution_count": 49,
   "metadata": {},
   "outputs": [],
   "source": [
    "def solution(numbers):\n",
    "    numbers_str = [str(num) for num in numbers]\n",
    "    numbers_str.sort(key=lambda num: num*3, reverse=True) \n",
    "    #ascii코드 뮨자열은 자리순서로 비교함\n",
    "    # 기준 정렬을 하면 303030 -> 333 -> 343434 -> 555 -> 999가 될 것 \n",
    "    # 그후 reverse 사용\n",
    "\n",
    "    print(numbers_str)\n",
    "\n",
    "    return str(int(''.join(numbers_str))) #0000 -> 0으로 바꿔줌"
   ]
  },
  {
   "cell_type": "code",
   "execution_count": 50,
   "metadata": {},
   "outputs": [
    {
     "name": "stdout",
     "output_type": "stream",
     "text": [
      "['6', '2', '10']\n",
      "6210\n"
     ]
    }
   ],
   "source": [
    "print(solution([6, 10, 2]))  "
   ]
  },
  {
   "cell_type": "code",
   "execution_count": null,
   "metadata": {},
   "outputs": [],
   "source": [
    "#다른 풀이법 functools\n",
    "import functools\n",
    "\n",
    "def comparator(a,b):\n",
    "    t1 = a+b\n",
    "    t2 = b+a\n",
    "    return (int(t1) > int(t2)) - (int(t1) < int(t2)) #  t1이 크다면 1  // t2가 크다면 -1  //  같으면 0\n",
    "\n",
    "def solution(numbers):\n",
    "    n = [str(x) for x in numbers]\n",
    "    n = sorted(n, key=functools.cmp_to_key(comparator),reverse=True)\n",
    "    answer = str(int(''.join(n)))\n",
    "    return answer\n",
    "\n",
    "# https://wikidocs.net/109303"
   ]
  },
  {
   "cell_type": "code",
   "execution_count": 33,
   "metadata": {},
   "outputs": [],
   "source": [
    "def solution(numbers):\n",
    "    answer = ''\n",
    "    num_to_str={}\n",
    "    num_to_str2={}\n",
    "    num_to_str3={}\n",
    "    num_to_str4={}\n",
    "    for i in range(0,10) : \n",
    "        num_to_str.setdefault(str(i),[] )\n",
    "        num_to_str2.setdefault(str(i),[] )\n",
    "        num_to_str3.setdefault(str(i),[] )\n",
    "        num_to_str4.setdefault(str(i),[] )\n",
    "        \n",
    "    for i in numbers : #n번 \n",
    "        num_to_str[str(i)[0]].append(i) #첫번째 자리 숫자 별로 넣기\n",
    "    \n",
    "    # print('num_to_str : ', num_to_str)\n",
    "    \n",
    "    for i in range(9,0,-1): #10번 \n",
    "        if(num_to_str[str(i)]):\n",
    "            tmp = num_to_str[str(i)]  \n",
    "            for j in tmp: \n",
    "                if 10>j: \n",
    "                     answer=answer+str(j)\n",
    "                else:\n",
    "                    num_to_str2[str(j)[1]].append(j)\n",
    "\n",
    "\n",
    "    # print('num_to_str2 : ', num_to_str2)       \n",
    "\n",
    "    for k in range(9,-1,-1):\n",
    "        tmp = num_to_str2[str(k)]\n",
    "        # print(tmp,'a')\n",
    "        for j in tmp :\n",
    "            if 100>j:\n",
    "                answer=answer+str(j)\n",
    "            else :\n",
    "                num_to_str3[str(j)[2]].append(j)      \n",
    "     \n",
    "                        \n",
    "    # print('num_to_str3 : ',num_to_str3)\n",
    "                  \n",
    "    for k in range(9,-1,-1):\n",
    "        tmp = num_to_str3[str(k)]   \n",
    "        for j in tmp :\n",
    "            if 1000>j:\n",
    "                answer=answer+str(j)\n",
    "            else :\n",
    "                num_to_str4[str(j)[3]].append(j)        \n",
    "    #     tmp = num_to_str4[str(k)]\n",
    "    # #   print(tmp)\n",
    "    #     tmp.sort()\n",
    "    # for j in tmp :\n",
    "    #         answer=answer+str(j)\n",
    "    answer = str(int(answer))       \n",
    "    return answer\n",
    "  \n",
    "\n",
    "  #오류 첫번째 자리 3 34 34가 더 먼저 와야한다"
   ]
  },
  {
   "cell_type": "code",
   "execution_count": 36,
   "metadata": {},
   "outputs": [
    {
     "data": {
      "text/plain": [
       "'953373430987555333'"
      ]
     },
     "execution_count": 36,
     "metadata": {},
     "output_type": "execute_result"
    }
   ],
   "source": [
    "numbers = [3, 30, 34, 5, 9, 333, 37, 555, 987]\n",
    "solution(numbers)"
   ]
  },
  {
   "cell_type": "code",
   "execution_count": 34,
   "metadata": {},
   "outputs": [
    {
     "name": "stdout",
     "output_type": "stream",
     "text": [
      "{'0': [], '1': [], '2': [], '3': [3], '4': [], '5': [], '6': [], '7': [], '8': [], '9': []}\n",
      "{'0': [], '1': [], '2': [], '3': [3, 30], '4': [], '5': [], '6': [], '7': [], '8': [], '9': []}\n",
      "{'0': [], '1': [], '2': [], '3': [3, 30, 34], '4': [], '5': [], '6': [], '7': [], '8': [], '9': []}\n",
      "{'0': [], '1': [], '2': [], '3': [3, 30, 34], '4': [], '5': [5], '6': [], '7': [], '8': [], '9': []}\n",
      "{'0': [], '1': [], '2': [], '3': [3, 30, 34], '4': [], '5': [5], '6': [], '7': [], '8': [], '9': [9]}\n",
      "{'0': [], '1': [], '2': [], '3': [3, 30, 34, 333], '4': [], '5': [5], '6': [], '7': [], '8': [], '9': [9]}\n",
      "{'0': [], '1': [], '2': [], '3': [3, 30, 34, 333, 37], '4': [], '5': [5], '6': [], '7': [], '8': [], '9': [9]}\n",
      "{'0': [], '1': [], '2': [], '3': [3, 30, 34, 333, 37], '4': [], '5': [5, 555], '6': [], '7': [], '8': [], '9': [9]}\n",
      "{'0': [], '1': [], '2': [], '3': [3, 30, 34, 333, 37], '4': [], '5': [5, 555], '6': [], '7': [], '8': [], '9': [9, 987]}\n"
     ]
    }
   ],
   "source": [
    "numbers = [3, 30, 34, 5, 9, 333, 37, 555, 987]\n",
    "\n",
    "num_to_str={}\n",
    "num_to_str2={}\n",
    "num_to_str3={}\n",
    "num_to_str4={}\n",
    "for i in range(0,10) : \n",
    "        num_to_str.setdefault(str(i),[] )\n",
    "        num_to_str2.setdefault(str(i),[] )\n",
    "        num_to_str3.setdefault(str(i),[] )\n",
    "        num_to_str4.setdefault(str(i),[] )\n",
    "\n",
    "for i in numbers : #n번 \n",
    "        num_to_str[str(i)[0]].append(i) #첫번째 자리 숫자 별로 넣기\n",
    "        print(num_to_str)"
   ]
  },
  {
   "cell_type": "code",
   "execution_count": null,
   "metadata": {},
   "outputs": [],
   "source": []
  }
 ],
 "metadata": {
  "interpreter": {
   "hash": "9b9d9f7c280a0e1d18d11a2e303bacbe9c0ea4a7172566f81039e82f548fd704"
  },
  "kernelspec": {
   "display_name": "Python 3.7.6 64-bit ('base': conda)",
   "language": "python",
   "name": "python3"
  },
  "language_info": {
   "codemirror_mode": {
    "name": "ipython",
    "version": 3
   },
   "file_extension": ".py",
   "mimetype": "text/x-python",
   "name": "python",
   "nbconvert_exporter": "python",
   "pygments_lexer": "ipython3",
   "version": "3.7.6"
  },
  "orig_nbformat": 4
 },
 "nbformat": 4,
 "nbformat_minor": 2
}
