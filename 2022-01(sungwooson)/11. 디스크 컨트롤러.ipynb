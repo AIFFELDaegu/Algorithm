{
 "cells": [
  {
   "cell_type": "code",
   "execution_count": 11,
   "metadata": {},
   "outputs": [],
   "source": [
    "import heapq\n",
    "\n",
    "def solution(jobs):\n",
    "        \n",
    "    front = []\n",
    "    back = []\n",
    "    sumcash = 0\n",
    "    sumfront = 0\n",
    "    sumback = 0\n",
    "\n",
    "    for i in range(len(jobs)):\n",
    "        heapq.heappush(front, jobs[i][0])   \n",
    "        heapq.heappush(back, jobs[i][1])\n",
    "        \n",
    "\n",
    "    for i in range(len(jobs)):\n",
    "        sumcash += heapq.heappop(back)        \n",
    "        sumback += sumcash        \n",
    "        sumfront += heapq.heappop(front)\n",
    "        \n",
    "        \n",
    "    answer = ( sumback - sumfront )//len(jobs)   \n",
    "    return answer"
   ]
  },
  {
   "cell_type": "code",
   "execution_count": 12,
   "metadata": {},
   "outputs": [
    {
     "data": {
      "text/plain": [
       "9"
      ]
     },
     "execution_count": 12,
     "metadata": {},
     "output_type": "execute_result"
    }
   ],
   "source": [
    "jobs = [[0, 3], [1, 9], [2, 6]]\n",
    "solution(jobs)"
   ]
  },
  {
   "cell_type": "code",
   "execution_count": 4,
   "metadata": {},
   "outputs": [],
   "source": [
    "import heapq\n",
    "\n",
    "def solution(jobs):\n",
    "    answer = 0\n",
    "    end, i = 0, 0\n",
    "    start = -1\n",
    "    hq =[]\n",
    "    while len(jobs)>i :\n",
    "        for job in jobs:\n",
    "            if start<job[0]<=end:\n",
    "                heapq.heappush(hq, (job[1], job[0]))\n",
    "        if len(hq) > 0:\n",
    "            now = heapq.heappop(hq)\n",
    "            start = end\n",
    "            end += now[0]\n",
    "            answer += (end-now[1])\n",
    "            i += 1\n",
    "        else:\n",
    "            end+=1\n",
    "                \n",
    "    answer = answer//len(jobs)    \n",
    "    return answer"
   ]
  },
  {
   "cell_type": "code",
   "execution_count": 5,
   "metadata": {},
   "outputs": [
    {
     "data": {
      "text/plain": [
       "9"
      ]
     },
     "execution_count": 5,
     "metadata": {},
     "output_type": "execute_result"
    }
   ],
   "source": [
    "jobs = [[0, 3], [1, 9], [2, 6]]\n",
    "solution(jobs)"
   ]
  },
  {
   "cell_type": "code",
   "execution_count": null,
   "metadata": {},
   "outputs": [],
   "source": []
  }
 ],
 "metadata": {
  "interpreter": {
   "hash": "9b9d9f7c280a0e1d18d11a2e303bacbe9c0ea4a7172566f81039e82f548fd704"
  },
  "kernelspec": {
   "display_name": "Python 3.7.6 64-bit ('base': conda)",
   "language": "python",
   "name": "python3"
  },
  "language_info": {
   "codemirror_mode": {
    "name": "ipython",
    "version": 3
   },
   "file_extension": ".py",
   "mimetype": "text/x-python",
   "name": "python",
   "nbconvert_exporter": "python",
   "pygments_lexer": "ipython3",
   "version": "3.7.6"
  },
  "orig_nbformat": 4
 },
 "nbformat": 4,
 "nbformat_minor": 2
}
