{
 "cells": [
  {
   "cell_type": "code",
   "execution_count": 25,
   "metadata": {},
   "outputs": [],
   "source": [
    "def solution(name):\n",
    "    answer = 0\n",
    "    n = len(name)\n",
    "\n",
    "    def alphabet_to_num(char):\n",
    "        num_char = [i for i in range(14)] + [j for j in range(12, 0, -1)]\n",
    "        return num_char[ord(char) - ord('A')]\n",
    "\n",
    "    for ch in name:\n",
    "        answer += alphabet_to_num(ch)\n",
    "\n",
    "    move = n - 1\n",
    "    for idx in range(n):\n",
    "        next_idx = idx + 1\n",
    "        while (next_idx < n) and (name[next_idx] == 'A'):\n",
    "            next_idx += 1\n",
    "        distance = min(idx, n - next_idx)\n",
    "        move = min(move, idx + n - next_idx + distance)\n",
    "\n",
    "    answer += move\n",
    "    return answer"
   ]
  },
  {
   "cell_type": "code",
   "execution_count": 1,
   "metadata": {},
   "outputs": [],
   "source": [
    "def solution(name):\n",
    "    answer = 0\n",
    "    n = len(name)\n",
    "\n",
    "    def alphabet_to_num(char):\n",
    "        num_char = [i for i in range(14)] + [j for j in range(12, 0, -1)]\n",
    "        return num_char[ord(char) - ord('A')]\n",
    "\n",
    "    for ch in name:\n",
    "        answer += alphabet_to_num(ch)\n",
    "\n",
    "    move = n - 1\n",
    "    for idx in range(n):\n",
    "        print(\"idx : \",idx)\n",
    "        next_idx = idx + 1\n",
    "        \n",
    "        while (next_idx < n) and (name[next_idx] == 'A'):\n",
    "            next_idx += 1\n",
    "\n",
    "        print('next_idx :',next_idx)\n",
    "        distance = min(idx, n - next_idx)\n",
    "        print('distance',distance)\n",
    "        move = min(move, idx + n - next_idx + distance)\n",
    "        print('move:',move,'\\n')\n",
    "\n",
    "    answer += move\n",
    "    return answer"
   ]
  },
  {
   "cell_type": "code",
   "execution_count": 29,
   "metadata": {},
   "outputs": [
    {
     "name": "stdout",
     "output_type": "stream",
     "text": [
      "idx :  0\n",
      "next_idx : 1\n",
      "distance 0\n",
      "move: 5 \n",
      "\n",
      "idx :  1\n",
      "next_idx : 2\n",
      "distance 1\n",
      "move: 5 \n",
      "\n",
      "idx :  2\n",
      "next_idx : 5\n",
      "distance 1\n",
      "move: 4 \n",
      "\n",
      "idx :  3\n",
      "next_idx : 5\n",
      "distance 1\n",
      "move: 4 \n",
      "\n",
      "idx :  4\n",
      "next_idx : 5\n",
      "distance 1\n",
      "move: 4 \n",
      "\n",
      "idx :  5\n",
      "next_idx : 6\n",
      "distance 0\n",
      "move: 4 \n",
      "\n"
     ]
    },
    {
     "data": {
      "text/plain": [
       "8"
      ]
     },
     "execution_count": 29,
     "metadata": {},
     "output_type": "execute_result"
    }
   ],
   "source": [
    "name = \"BBBAAB\"\n",
    "solution(name)"
   ]
  },
  {
   "cell_type": "code",
   "execution_count": 28,
   "metadata": {},
   "outputs": [
    {
     "name": "stdout",
     "output_type": "stream",
     "text": [
      "idx :  0\n",
      "next_idx : 1\n",
      "distance 0\n",
      "move: 5 \n",
      "\n",
      "idx :  1\n",
      "next_idx : 2\n",
      "distance 1\n",
      "move: 5 \n",
      "\n",
      "idx :  2\n",
      "next_idx : 5\n",
      "distance 1\n",
      "move: 4 \n",
      "\n",
      "idx :  3\n",
      "next_idx : 5\n",
      "distance 1\n",
      "move: 4 \n",
      "\n",
      "idx :  4\n",
      "next_idx : 5\n",
      "distance 1\n",
      "move: 4 \n",
      "\n",
      "idx :  5\n",
      "next_idx : 6\n",
      "distance 0\n",
      "move: 4 \n",
      "\n"
     ]
    },
    {
     "data": {
      "text/plain": [
       "8"
      ]
     },
     "execution_count": 28,
     "metadata": {},
     "output_type": "execute_result"
    }
   ],
   "source": [
    "name2 = \"BBBAAB\"\n",
    "solution(name2)"
   ]
  },
  {
   "cell_type": "code",
   "execution_count": 2,
   "metadata": {},
   "outputs": [
    {
     "name": "stdout",
     "output_type": "stream",
     "text": [
      "idx :  0\n",
      "next_idx : 1\n",
      "distance 0\n",
      "move: 18 \n",
      "\n",
      "idx :  1\n",
      "next_idx : 4\n",
      "distance 1\n",
      "move: 17 \n",
      "\n",
      "idx :  2\n",
      "next_idx : 4\n",
      "distance 2\n",
      "move: 17 \n",
      "\n",
      "idx :  3\n",
      "next_idx : 4\n",
      "distance 3\n",
      "move: 17 \n",
      "\n",
      "idx :  4\n",
      "next_idx : 5\n",
      "distance 4\n",
      "move: 17 \n",
      "\n",
      "idx :  5\n",
      "next_idx : 11\n",
      "distance 5\n",
      "move: 17 \n",
      "\n",
      "idx :  6\n",
      "next_idx : 11\n",
      "distance 6\n",
      "move: 17 \n",
      "\n",
      "idx :  7\n",
      "next_idx : 11\n",
      "distance 7\n",
      "move: 17 \n",
      "\n",
      "idx :  8\n",
      "next_idx : 11\n",
      "distance 8\n",
      "move: 17 \n",
      "\n",
      "idx :  9\n",
      "next_idx : 11\n",
      "distance 8\n",
      "move: 17 \n",
      "\n",
      "idx :  10\n",
      "next_idx : 11\n",
      "distance 8\n",
      "move: 17 \n",
      "\n",
      "idx :  11\n",
      "next_idx : 12\n",
      "distance 7\n",
      "move: 17 \n",
      "\n",
      "idx :  12\n",
      "next_idx : 17\n",
      "distance 2\n",
      "move: 16 \n",
      "\n",
      "idx :  13\n",
      "next_idx : 17\n",
      "distance 2\n",
      "move: 16 \n",
      "\n",
      "idx :  14\n",
      "next_idx : 17\n",
      "distance 2\n",
      "move: 16 \n",
      "\n",
      "idx :  15\n",
      "next_idx : 17\n",
      "distance 2\n",
      "move: 16 \n",
      "\n",
      "idx :  16\n",
      "next_idx : 17\n",
      "distance 2\n",
      "move: 16 \n",
      "\n",
      "idx :  17\n",
      "next_idx : 19\n",
      "distance 0\n",
      "move: 16 \n",
      "\n",
      "idx :  18\n",
      "next_idx : 19\n",
      "distance 0\n",
      "move: 16 \n",
      "\n"
     ]
    },
    {
     "data": {
      "text/plain": [
       "23"
      ]
     },
     "execution_count": 2,
     "metadata": {},
     "output_type": "execute_result"
    }
   ],
   "source": [
    "solution(\"BBAABBAAAAABBAAAABA\")"
   ]
  },
  {
   "cell_type": "code",
   "execution_count": 4,
   "metadata": {},
   "outputs": [
    {
     "name": "stdout",
     "output_type": "stream",
     "text": [
      "idx :  0\n",
      "next_idx : 3\n",
      "distance 0\n",
      "move: 7 \n",
      "\n",
      "idx :  1\n",
      "next_idx : 3\n",
      "distance 1\n",
      "move: 7 \n",
      "\n",
      "idx :  2\n",
      "next_idx : 3\n",
      "distance 2\n",
      "move: 7 \n",
      "\n",
      "idx :  3\n",
      "next_idx : 9\n",
      "distance 1\n",
      "move: 5 \n",
      "\n",
      "idx :  4\n",
      "next_idx : 9\n",
      "distance 1\n",
      "move: 5 \n",
      "\n",
      "idx :  5\n",
      "next_idx : 9\n",
      "distance 1\n",
      "move: 5 \n",
      "\n",
      "idx :  6\n",
      "next_idx : 9\n",
      "distance 1\n",
      "move: 5 \n",
      "\n",
      "idx :  7\n",
      "next_idx : 9\n",
      "distance 1\n",
      "move: 5 \n",
      "\n",
      "idx :  8\n",
      "next_idx : 9\n",
      "distance 1\n",
      "move: 5 \n",
      "\n",
      "idx :  9\n",
      "next_idx : 10\n",
      "distance 0\n",
      "move: 5 \n",
      "\n"
     ]
    },
    {
     "data": {
      "text/plain": [
       "7"
      ]
     },
     "execution_count": 4,
     "metadata": {},
     "output_type": "execute_result"
    }
   ],
   "source": [
    "solution(\"AAABAAAAAB\")"
   ]
  },
  {
   "cell_type": "code",
   "execution_count": null,
   "metadata": {},
   "outputs": [],
   "source": [
    "def solution(name):\n",
    "    count=0\n",
    "    alpha='ABCDEFGHIJKLMNOPQRSTUVWXYZ'\n",
    "    d={}\n",
    "    indexes=[]\n",
    "    current_idx=0\n",
    "    n=len(name)\n",
    "    for i in range(len(alpha)):\n",
    "        d[alpha[i]]=min(i,26-i)\n",
    "    #print(d)\n",
    "    for i in range(n):\n",
    "        num=d[name[i]]\n",
    "        count+=num\n",
    "        if num !=0 :\n",
    "            indexes.append(i)\n",
    "    while True:\n",
    "        if len(indexes)==0:\n",
    "            break\n",
    "        min_dist=99\n",
    "        min_idx=0\n",
    "        for it in indexes:\n",
    "            min_dist2=min(abs(it-current_idx),n-abs(it-current_idx))\n",
    "            if min_dist2 < min_dist:\n",
    "                min_dist=min_dist2\n",
    "                min_idx=it\n",
    "        count+=min_dist\n",
    "        indexes.remove(min_idx)\n",
    "        current_idx = min_idx\n",
    "\n",
    "    return count"
   ]
  }
 ],
 "metadata": {
  "interpreter": {
   "hash": "9b9d9f7c280a0e1d18d11a2e303bacbe9c0ea4a7172566f81039e82f548fd704"
  },
  "kernelspec": {
   "display_name": "Python 3.7.6 ('base')",
   "language": "python",
   "name": "python3"
  },
  "language_info": {
   "codemirror_mode": {
    "name": "ipython",
    "version": 3
   },
   "file_extension": ".py",
   "mimetype": "text/x-python",
   "name": "python",
   "nbconvert_exporter": "python",
   "pygments_lexer": "ipython3",
   "version": "3.7.6"
  },
  "orig_nbformat": 4
 },
 "nbformat": 4,
 "nbformat_minor": 2
}
