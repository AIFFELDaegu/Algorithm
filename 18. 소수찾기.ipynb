{
 "cells": [
  {
   "cell_type": "code",
   "execution_count": 12,
   "metadata": {},
   "outputs": [],
   "source": [
    "from itertools import permutations\n",
    "\n",
    "def solution(numbers):\n",
    "    answer = []\n",
    "    nums = [n for n in numbers]\n",
    "    per = []\n",
    "    for i in range(1, len(numbers)+1):\n",
    "        per += list(permutations(nums, i))\n",
    "        new_nums = [int((\"\").join(p)) for p in per]\n",
    "\n",
    "    for n in new_nums:\n",
    "        if n < 2:\n",
    "            continue\n",
    "        check = True\n",
    "        for i in range(2,int(n**0.5)+1):\n",
    "            if n % i == 0:\n",
    "                check = False\n",
    "                break\n",
    "        if check:\n",
    "            answer.append(n)\n",
    "\n",
    "    return len(set(answer))"
   ]
  },
  {
   "cell_type": "code",
   "execution_count": 13,
   "metadata": {},
   "outputs": [
    {
     "data": {
      "text/plain": [
       "3"
      ]
     },
     "execution_count": 13,
     "metadata": {},
     "output_type": "execute_result"
    }
   ],
   "source": [
    "numbers = \"17\"\n",
    "solution(numbers)"
   ]
  },
  {
   "cell_type": "code",
   "execution_count": 16,
   "metadata": {},
   "outputs": [],
   "source": [
    "# 순열 구현\n",
    "\n",
    "def gen_permutations(arr, n):\n",
    "    result = []\n",
    "\n",
    "    if n ==0:\n",
    "        return[[]]\n",
    "\n",
    "    for i, elem in enumerate(arr):\n",
    "        for p in gen_permutations(arr[:i] + arr[i+1:], n-1):\n",
    "            result += [[elem]+p]\n",
    "\n",
    "    return result\n"
   ]
  },
  {
   "cell_type": "code",
   "execution_count": 17,
   "metadata": {},
   "outputs": [
    {
     "data": {
      "text/plain": [
       "[['1', '7'], ['7', '1']]"
      ]
     },
     "execution_count": 17,
     "metadata": {},
     "output_type": "execute_result"
    }
   ],
   "source": [
    "gen_permutations(numbers , 2)"
   ]
  },
  {
   "cell_type": "code",
   "execution_count": null,
   "metadata": {},
   "outputs": [],
   "source": []
  }
 ],
 "metadata": {
  "interpreter": {
   "hash": "9b9d9f7c280a0e1d18d11a2e303bacbe9c0ea4a7172566f81039e82f548fd704"
  },
  "kernelspec": {
   "display_name": "Python 3.7.6 ('base')",
   "language": "python",
   "name": "python3"
  },
  "language_info": {
   "codemirror_mode": {
    "name": "ipython",
    "version": 3
   },
   "file_extension": ".py",
   "mimetype": "text/x-python",
   "name": "python",
   "nbconvert_exporter": "python",
   "pygments_lexer": "ipython3",
   "version": "3.7.6"
  },
  "orig_nbformat": 4
 },
 "nbformat": 4,
 "nbformat_minor": 2
}
